{
 "cells": [
  {
   "cell_type": "code",
   "execution_count": 29,
   "metadata": {},
   "outputs": [],
   "source": [
    "from sklearn.decomposition import PCA\n",
    "from sklearn.decomposition import FactorAnalysis\n",
    "from sklearn.neural_network import MLPRegressor\n",
    "from sklearn.datasets import load_wine\n",
    "from sklearn.datasets import load_iris\n",
    "from sklearn.datasets import load_diabetes\n",
    "from sklearn.datasets import load_boston\n",
    "import numpy as np\n",
    "import scipy\n",
    "import pandas as pd\n",
    "import matplotlib.pyplot as plt"
   ]
  },
  {
   "cell_type": "code",
   "execution_count": 5,
   "metadata": {},
   "outputs": [
    {
     "name": "stdout",
     "output_type": "stream",
     "text": [
      "Cumulative Contribution Ratio:  0.3619884809992632\n",
      "Cumulative Contribution Ratio:  0.5540633835693527\n",
      "Cumulative Contribution Ratio:  0.6652996889318524\n",
      "Cumulative Contribution Ratio:  0.7359899907589929\n",
      "Cumulative Contribution Ratio:  0.8016229275554788\n",
      "Cumulative Contribution Ratio:  0.8509811607477045\n",
      "Cumulative Contribution Ratio:  0.8933679539739376\n",
      "Cumulative Contribution Ratio:  0.9201754434577263\n",
      "Cumulative Contribution Ratio:  0.9423969775056235\n",
      "Cumulative Contribution Ratio:  0.9616971684450643\n",
      "Cumulative Contribution Ratio:  0.9790655253449634\n",
      "Cumulative Contribution Ratio:  0.9920478511010055\n"
     ]
    },
    {
     "data": {
      "image/png": "[encoded data removed]",
      "text/plain": [
       "<Figure size 432x288 with 1 Axes>"
      ]
     },
     "metadata": {
      "needs_background": "light"
     },
     "output_type": "display_data"
    }
   ],
   "source": [
    "# PCA for visualization\n",
    "\n",
    "DATA = load_wine()\n",
    "label=DATA.target\n",
    "dataset=pd.DataFrame(DATA.data, columns=DATA.feature_names)\n",
    "dataset=scipy.stats.zscore(dataset)\n",
    "for i in range(1,np.shape(dataset)[1]):\n",
    "    pca=PCA(n_components=i)\n",
    "    pca.fit(dataset)\n",
    "    contribution_ratio=pca.explained_variance_ratio_\n",
    "    print('Cumulative Contribution Ratio: ',np.sum(np.asarray(contribution_ratio)))\n",
    "    \n",
    "    if i==2:\n",
    "        data_trans=pca.transform(dataset)\n",
    "        \n",
    "        for j in range(len(dataset)):\n",
    "          \n",
    "            if label[j]==0:\n",
    "                plt.scatter(data_trans[j,0],data_trans[j,1],color='blue')\n",
    "           \n",
    "            elif label[j]==1:\n",
    "                plt.scatter(data_trans[j,0],data_trans[j,1],color='red')\n",
    "            \n",
    "            else:\n",
    "                plt.scatter(data_trans[j,0],data_trans[j,1],color='green')\n",
    "\n",
    "plt.show()"
   ]
  },
  {
   "cell_type": "code",
   "execution_count": 3,
   "metadata": {},
   "outputs": [
    {
     "name": "stdout",
     "output_type": "stream",
     "text": [
      "[array([[ 0.515585  , -0.17031473],\n",
      "       [ 0.39058393, -0.17208474],\n",
      "       [-1.13052164,  0.95575343],\n",
      "       [-1.46230363,  0.55169135]]), array([[ 0.77506505,  1.34205604, -2.07247844, -0.93810662],\n",
      "       [ 3.46990738,  1.62185066,  2.78466752,  1.68399725]])]\n",
      "score:  0.752990826200374\n"
     ]
    },
    {
     "data": {
      "image/png": "[encoded data removed]",
      "text/plain": [
       "<Figure size 432x288 with 1 Axes>"
      ]
     },
     "metadata": {
      "needs_background": "light"
     },
     "output_type": "display_data"
    },
    {
     "data": {
      "image/png": "[encoded data removed]",
      "text/plain": [
       "<Figure size 432x288 with 1 Axes>"
      ]
     },
     "metadata": {
      "needs_background": "light"
     },
     "output_type": "display_data"
    }
   ],
   "source": [
    "# Auto Encoder for visualization\n",
    "\n",
    "from sklearn.datasets import load_iris\n",
    "#from sklearn.datasets import load_wine\n",
    "from sklearn.neural_network import MLPRegressor\n",
    "import numpy as np\n",
    "import matplotlib.pyplot as plt\n",
    "\n",
    "\n",
    "sample_data=load_iris()\n",
    "#sample_data=load_wine()\n",
    "train_X=sample_data.data\n",
    "#print(train_X)\n",
    "\n",
    "MLPR=MLPRegressor(hidden_layer_sizes=(2,),activation='logistic',max_iter=10000)\n",
    "MLPR.fit(train_X,train_X)\n",
    "\n",
    "# weights\n",
    "W=MLPR.coefs_ \n",
    "\n",
    "print(W)\n",
    "W_1=W[0]\n",
    "print('score: ',MLPR.score(train_X,train_X))\n",
    "\n",
    "def logistic(x):\n",
    "    return 1/(1+np.exp(-x))\n",
    "\n",
    "data_transformed=logistic(np.dot(train_X,W_1))\n",
    "\n",
    "plt.scatter(x=data_transformed[:,0],y=data_transformed[:,1])\n",
    "\n",
    "\n",
    "target_value=sample_data.target\n",
    "\n",
    "plt.figure()\n",
    "\n",
    "for i in range(len(target_value)):\n",
    "    if target_value[i]==0:\n",
    "        plt.scatter(x=data_transformed[i,0],y=data_transformed[i,1],color='r')\n",
    "    elif target_value[i]==1:\n",
    "        plt.scatter(x=data_transformed[i,0],y=data_transformed[i,1],color='b')\n",
    "    else:\n",
    "        plt.scatter(x=data_transformed[i,0],y=data_transformed[i,1],color='g')"
   ]
  },
  {
   "cell_type": "code",
   "execution_count": 46,
   "metadata": {},
   "outputs": [],
   "source": [
    "# Data Preparation\n",
    "\n",
    "D=load_boston()\n",
    "t=D.target\n",
    "X=pd.DataFrame(D.data,columns=D.feature_names)\n",
    "X=scipy.stats.zscore(X)\n",
    "X=pd.DataFrame(X,columns=D.feature_names)\n",
    "#X=X.drop('ZN',axis=1)"
   ]
  },
  {
   "cell_type": "code",
   "execution_count": 47,
   "metadata": {},
   "outputs": [
    {
     "name": "stdout",
     "output_type": "stream",
     "text": [
      "Cumulative Contribution Ratio with  13  PCs:  0.6339377489194171\n"
     ]
    }
   ],
   "source": [
    "# PCA\n",
    "\n",
    "number_of_PCs=2\n",
    "pca=PCA(n_components=number_of_PCs)\n",
    "pca.fit(X)\n",
    "X_transformed=pca.transform(X)\n",
    "#print(X_transformed)\n",
    "contribution_ratio=pca.explained_variance_ratio_\n",
    "print('Cumulative Contribution Ratio with ',i,' PCs: ',np.sum(np.asarray(contribution_ratio)))"
   ]
  },
  {
   "cell_type": "code",
   "execution_count": 51,
   "metadata": {},
   "outputs": [
    {
     "name": "stdout",
     "output_type": "stream",
     "text": [
      "iterated  101  times\n",
      "Log Likelihood:  -5985.283967303671\n",
      "-5985.283967315226\n",
      "                1         2         3\n",
      "CRIM     0.627462 -0.110107 -0.067815\n",
      "INDUS    0.786893  0.330398  0.036329\n",
      "NOX      0.789505  0.372661  0.209285\n",
      "RM      -0.359650 -0.402173  0.690700\n",
      "AGE      0.651885  0.473772  0.231045\n",
      "DIS     -0.683306 -0.446003 -0.326343\n",
      "RAD      0.917195 -0.307684 -0.004374\n",
      "TAX      0.934513 -0.173149 -0.038171\n",
      "PTRATIO  0.472489 -0.066582 -0.302477\n",
      "B       -0.475131  0.033179 -0.003540\n",
      "LSTAT    0.656574  0.389496 -0.316519\n"
     ]
    }
   ],
   "source": [
    "# Factor Analysis\n",
    "\n",
    "number_of_Factors=3\n",
    "FA=FactorAnalysis(n_components=number_of_Factors,tol=0.0001,max_iter=100000)\n",
    "FA.fit(X)\n",
    "X_transformed=FA.transform(X)\n",
    "#print(X_transformed)\n",
    "print('iterated ',FA.n_iter_,' times')\n",
    "print('Log Likelihood: ',FA.loglike_[FA.n_iter_-1])\n",
    "\n",
    "# FA.score_samples calculates log likelihood of each sample \n",
    "print(np.sum(FA.score_samples(X)))\n",
    "\n",
    "# FA.components returns Factor Loadings\n",
    "Factor_Loadings=FA.components_.T\n",
    "\n",
    "result=pd.DataFrame(Factor_Loadings,columns=list(range(1,number_of_Factors+1)),index=X.columns)\n",
    "print(result)"
   ]
  },
  {
   "cell_type": "code",
   "execution_count": 52,
   "metadata": {},
   "outputs": [
    {
     "name": "stdout",
     "output_type": "stream",
     "text": [
      "score:  0.9036043365297842\n"
     ]
    }
   ],
   "source": [
    "# Auto Encoder\n",
    "\n",
    "def logistic(x):\n",
    "    return 1/(1+np.exp(-x))\n",
    "\n",
    "def relu(x):\n",
    "    sign=(x>=0)\n",
    "    return x*sign\n",
    "\n",
    "MLPR=MLPRegressor(hidden_layer_sizes=(8,),activation='relu',max_iter=10000)\n",
    "MLPR.fit(X,X)\n",
    "\n",
    "# weights\n",
    "W=MLPR.coefs_ \n",
    "W_1=W[0]\n",
    "\n",
    "print('score: ',MLPR.score(X,X))\n",
    "\n",
    "#X_transformed=logistic(np.dot(X,W_1))\n",
    "X_transformed=relu(np.dot(X,W_1))"
   ]
  },
  {
   "cell_type": "code",
   "execution_count": null,
   "metadata": {},
   "outputs": [],
   "source": []
  }
 ],
 "metadata": {
  "kernelspec": {
   "display_name": "Python 3",
   "language": "python",
   "name": "python3"
  },
  "language_info": {
   "codemirror_mode": {
    "name": "ipython",
    "version": 3
   },
   "file_extension": ".py",
   "mimetype": "text/x-python",
   "name": "python",
   "nbconvert_exporter": "python",
   "pygments_lexer": "ipython3",
   "version": "3.6.8"
  }
 },
 "nbformat": 4,
 "nbformat_minor": 2
}
