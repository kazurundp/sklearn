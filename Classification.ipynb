{
 "cells": [
  {
   "cell_type": "code",
   "execution_count": 11,
   "metadata": {},
   "outputs": [],
   "source": [
    "from sklearn.linear_model import LogisticRegression\n",
    "from sklearn.discriminant_analysis import LinearDiscriminantAnalysis\n",
    "from sklearn.neural_network import MLPClassifier\n",
    "from sklearn.model_selection import train_test_split\n",
    "from sklearn.model_selection import KFold\n",
    "from sklearn.datasets import load_iris\n",
    "from sklearn.datasets import load_wine\n",
    "from sklearn.metrics import confusion_matrix\n",
    "import matplotlib.pyplot as plt\n",
    "import pandas as pd\n",
    "import numpy as np"
   ]
  },
  {
   "cell_type": "code",
   "execution_count": 16,
   "metadata": {},
   "outputs": [],
   "source": [
    "# iris\n",
    "# 0: setosa, 1: versicolor, 2: virginica\n",
    "\n",
    "# wine\n",
    "# 0: not so good quality, 1: good quality, 2: very good quality"
   ]
  },
  {
   "cell_type": "code",
   "execution_count": 17,
   "metadata": {},
   "outputs": [
    {
     "name": "stdout",
     "output_type": "stream",
     "text": [
      "150\n"
     ]
    }
   ],
   "source": [
    "# dataset preparation\n",
    "D=load_iris()\n",
    "data_X=D.data\n",
    "print(len(data_X))\n",
    "data_X=pd.DataFrame(data_X,columns=D.feature_names)\n",
    "#print(data_X)\n",
    "data_y=D.target\n",
    "split_size=5\n",
    "class_number=len(D.target_names)\n",
    "\n",
    "X_train, X_test, y_train, y_test =train_test_split(data_X, data_y, test_size=0.33,shuffle=True) \n",
    "X_train, X_test, y_train, y_test =np.asarray(X_train),np.asarray(X_test),np.asarray(y_train),np.asarray(y_test)\n",
    "k_fold=KFold(n_splits=split_size,shuffle=True)\n",
    "\n",
    "TRAIN_INDICES=[]\n",
    "VALIDATION_INDICES=[]\n",
    "\n",
    "for train_indices, validation_indices in k_fold.split(X_train):\n",
    "    TRAIN_INDICES.append(train_indices)\n",
    "    VALIDATION_INDICES.append(validation_indices)"
   ]
  },
  {
   "cell_type": "code",
   "execution_count": 19,
   "metadata": {},
   "outputs": [
    {
     "name": "stdout",
     "output_type": "stream",
     "text": [
      "train score in CV:  0.9875\n",
      "\n",
      "validation score in CV:  0.9800000000000001\n",
      "End of CV\n",
      "\n",
      "train score:  0.99\n",
      "\n",
      "test_score:  0.94\n",
      "\n",
      "\n",
      "Confusion Matrix for train\n",
      "[[37  0  0]\n",
      " [ 0 30  1]\n",
      " [ 0  0 32]]\n",
      "\n",
      "Confusion Matrix for test\n",
      "[[13  0  0]\n",
      " [ 0 16  3]\n",
      " [ 0  0 18]]\n"
     ]
    }
   ],
   "source": [
    "# Logistic Regression\n",
    "LR=LogisticRegression(C=1,solver='lbfgs',multi_class='multinomial',max_iter=10000) \n",
    "\n",
    "# C is a parameter for regularization. Regularization can be stronger as C ->+0\n",
    "\n",
    "train_score=0\n",
    "validation_score=0\n",
    "\n",
    "for i in range(split_size):\n",
    "    train=TRAIN_INDICES[i]\n",
    "    valid=VALIDATION_INDICES[i]\n",
    "    LR.fit(X_train[train],y_train[train])\n",
    "    \n",
    "    train_score+=LR.score(X_train[train],y_train[train])\n",
    "    validation_score+=LR.score(X_train[valid],y_train[valid])\n",
    "    \n",
    "print(\"train score in CV: \",train_score/split_size)\n",
    "print()\n",
    "print(\"validation score in CV: \",validation_score/split_size)\n",
    "print(\"End of CV\")\n",
    "print()\n",
    "\n",
    "train_pred=LR.predict(X_train)\n",
    "train_score=LR.score(X_train,y_train)\n",
    "    \n",
    "test_pred=LR.predict(X_test)\n",
    "test_score=LR.score(X_test,y_test)\n",
    "\n",
    "\n",
    "print(\"train score: \",train_score)\n",
    "print()\n",
    "print(\"test_score: \",test_score)\n",
    "print('\\n')\n",
    "print('Confusion Matrix for train')\n",
    "print(confusion_matrix(y_train,train_pred,range(class_number)))\n",
    "print()\n",
    "print('Confusion Matrix for test')\n",
    "print(confusion_matrix(y_test,test_pred,range(class_number)))"
   ]
  },
  {
   "cell_type": "code",
   "execution_count": 22,
   "metadata": {},
   "outputs": [
    {
     "name": "stdout",
     "output_type": "stream",
     "text": [
      "train score:  0.99\n",
      "test score:  0.96\n",
      "\n",
      "\n",
      "Confusion Matrix for train\n",
      "[[37  0  0]\n",
      " [ 0 30  1]\n",
      " [ 0  0 32]]\n",
      "\n",
      "Confusion Matrix for test\n",
      "[[13  0  0]\n",
      " [ 0 17  2]\n",
      " [ 0  0 18]]\n"
     ]
    }
   ],
   "source": [
    "# Linear Dicriminat Analysis\n",
    "# Cuz there's no hyperparameter, no need for CV\n",
    "\n",
    "LDA=LinearDiscriminantAnalysis()\n",
    "\n",
    "\n",
    "LR.fit(X_train,y_train)\n",
    "    \n",
    "train_pred=LR.predict(X_train)\n",
    "train_score=LR.score(X_train,y_train)\n",
    "    \n",
    "test_pred=LR.predict(X_test)\n",
    "test_score=LR.score(X_test,y_test)\n",
    "    \n",
    "print(\"train score: \",train_score)\n",
    "print(\"test score: \",test_score)\n",
    "print('\\n')\n",
    "print('Confusion Matrix for train')\n",
    "print(confusion_matrix(y_train,train_pred,range(class_number)))\n",
    "print()\n",
    "print('Confusion Matrix for test')\n",
    "print(confusion_matrix(y_test,test_pred,range(class_number)))"
   ]
  },
  {
   "cell_type": "code",
   "execution_count": 27,
   "metadata": {},
   "outputs": [
    {
     "name": "stdout",
     "output_type": "stream",
     "text": [
      "train score in CV:  0.9475\n",
      "\n",
      "validation score in CV:  0.9199999999999999\n",
      "End of CV\n",
      "\n",
      "train score:  1.0\n",
      "\n",
      "test_score:  0.92\n",
      "\n",
      "\n",
      "Confusion Matrix for train\n",
      "[[37  0  0]\n",
      " [ 0 31  0]\n",
      " [ 0  0 32]]\n",
      "\n",
      "Confusion Matrix for test\n",
      "[[13  0  0]\n",
      " [ 0 15  4]\n",
      " [ 0  0 18]]\n"
     ]
    }
   ],
   "source": [
    "# Neural Network\n",
    "MLPC=MLPClassifier(hidden_layer_sizes=(5,),activation='relu',max_iter=10000,alpha=0)\n",
    "\n",
    "train_score=0\n",
    "validation_score=0\n",
    "\n",
    "for i in range(split_size):\n",
    "    train=TRAIN_INDICES[i]\n",
    "    valid=VALIDATION_INDICES[i]\n",
    "    MLPC.fit(X_train[train],y_train[train])\n",
    "    \n",
    "    train_score+=MLPC.score(X_train[train],y_train[train])\n",
    "    validation_score+=MLPC.score(X_train[valid],y_train[valid])\n",
    "    \n",
    "print(\"train score in CV: \",train_score/split_size)\n",
    "print()\n",
    "print(\"validation score in CV: \",validation_score/split_size)\n",
    "print(\"End of CV\")\n",
    "print()\n",
    "\n",
    "train_pred=MLPC.predict(X_train)\n",
    "train_score=MLPC.score(X_train,y_train)\n",
    "    \n",
    "test_pred=MLPC.predict(X_test)\n",
    "test_score=MLPC.score(X_test,y_test)\n",
    "\n",
    "\n",
    "print(\"train score: \",train_score)\n",
    "print()\n",
    "print(\"test_score: \",test_score)\n",
    "print('\\n')\n",
    "print('Confusion Matrix for train')\n",
    "print(confusion_matrix(y_train,train_pred,range(class_number)))\n",
    "print()\n",
    "print('Confusion Matrix for test')\n",
    "print(confusion_matrix(y_test,test_pred,range(class_number)))"
   ]
  },
  {
   "cell_type": "code",
   "execution_count": null,
   "metadata": {},
   "outputs": [],
   "source": []
  }
 ],
 "metadata": {
  "kernelspec": {
   "display_name": "Python 3",
   "language": "python",
   "name": "python3"
  },
  "language_info": {
   "codemirror_mode": {
    "name": "ipython",
    "version": 3
   },
   "file_extension": ".py",
   "mimetype": "text/x-python",
   "name": "python",
   "nbconvert_exporter": "python",
   "pygments_lexer": "ipython3",
   "version": "3.6.8"
  }
 },
 "nbformat": 4,
 "nbformat_minor": 2
}
