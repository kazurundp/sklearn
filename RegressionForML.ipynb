{
 "cells": [
  {
   "cell_type": "code",
   "execution_count": 1,
   "metadata": {},
   "outputs": [],
   "source": [
    "from sklearn.linear_model import LinearRegression\n",
    "from sklearn.linear_model import Ridge\n",
    "from sklearn.neural_network import MLPRegressor\n",
    "from sklearn.model_selection import train_test_split\n",
    "from sklearn.model_selection import KFold\n",
    "from sklearn.datasets import load_boston\n",
    "from sklearn.datasets import load_diabetes\n",
    "import matplotlib.pyplot as plt\n",
    "import pandas as pd\n",
    "import numpy as np"
   ]
  },
  {
   "cell_type": "code",
   "execution_count": 31,
   "metadata": {},
   "outputs": [],
   "source": [
    "# dataset preparation\n",
    "D=load_boston()\n",
    "data_X=D.data\n",
    "data_X=pd.DataFrame(data_X,columns=D.feature_names)\n",
    "#print(data_X)\n",
    "data_y=D.target\n",
    "split_size=5\n",
    "\n",
    "X_train, X_test, y_train, y_test =train_test_split(data_X, data_y, test_size=0.2,shuffle=True) \n",
    "X_train, X_test, y_train, y_test =np.asarray(X_train),np.asarray(X_test),np.asarray(y_train),np.asarray(y_test)\n",
    "k_fold=KFold(n_splits=split_size,shuffle=True)\n",
    "\n",
    "TRAIN_INDICES=[]\n",
    "VALIDATION_INDICES=[]\n",
    "\n",
    "for train_indices, validation_indices in k_fold.split(X_train):\n",
    "    TRAIN_INDICES.append(train_indices)\n",
    "    VALIDATION_INDICES.append(validation_indices)\n"
   ]
  },
  {
   "cell_type": "code",
   "execution_count": 32,
   "metadata": {},
   "outputs": [
    {
     "data": {
      "text/plain": [
       "7.0"
      ]
     },
     "execution_count": 32,
     "metadata": {},
     "output_type": "execute_result"
    }
   ],
   "source": [
    "# squared sum error function\n",
    "def E(t,y):\n",
    "    return np.sum((t-y)**2)/2\n",
    "\n",
    "a=np.array([1,2,3])\n",
    "b=np.array([4,4,4])\n",
    "E(a,b)"
   ]
  },
  {
   "cell_type": "code",
   "execution_count": 37,
   "metadata": {},
   "outputs": [
    {
     "name": "stdout",
     "output_type": "stream",
     "text": [
      "train error:  4647.407439958362\n",
      " test error:  931.8602678876899\n",
      "\n",
      "train score:  0.7395171829330857\n",
      "test score:  0.722705851012406\n",
      "\n"
     ]
    }
   ],
   "source": [
    "# Linear Regression\n",
    "LR=LinearRegression()\n",
    "\n",
    "# Linear Regression has no hyper parameter. So no need for cross validation \n",
    "\n",
    "\n",
    "LR.fit(X_train,y_train)\n",
    "    \n",
    "train_pred=LR.predict(X_train)\n",
    "train_error=E(y_train,train_pred)\n",
    "train_score=LR.score(X_train,y_train)\n",
    "    \n",
    "test_pred=LR.predict(X_test)\n",
    "test_error=E(y_test,test_pred)\n",
    "test_score=LR.score(X_test,y_test)\n",
    "    \n",
    "print(\"train error: \",train_error)\n",
    "print(\" test error: \", test_error)\n",
    "print()\n",
    "print(\"train score: \",train_score)\n",
    "print(\"test score: \",test_score)\n",
    "print()"
   ]
  },
  {
   "cell_type": "code",
   "execution_count": 38,
   "metadata": {},
   "outputs": [
    {
     "name": "stdout",
     "output_type": "stream",
     "text": [
      "Cross Validation for alpha\n",
      "train error in CV:  3855.9026265413113\n",
      "train score in CV:  0.7299450491994953\n",
      "\n",
      "validation error in CV:  1045.547591657963\n",
      "validation score in CV:  0.7077458475808622\n",
      "End of CV\n",
      "\n",
      "train error:  4877.954503632479\n",
      "train score:  0.7265952367968379\n",
      "\n",
      "test error:  952.7108078726245\n",
      "test_score:  0.71650134488601\n"
     ]
    }
   ],
   "source": [
    "# Ridge Regression\n",
    "RIDGE=Ridge(alpha=10)\n",
    "\n",
    "# Cross validation is needed for hyper parameter alpha\n",
    "\n",
    "train_error=0\n",
    "validation_error=0\n",
    "\n",
    "train_score=0\n",
    "validation_score=0\n",
    "\n",
    "print(\"Cross Validation for alpha\")\n",
    "for i in range(split_size):\n",
    "    train=TRAIN_INDICES[i]\n",
    "    valid=VALIDATION_INDICES[i]\n",
    "    RIDGE.fit(X_train[train],y_train[train])\n",
    "    \n",
    "    train_pred=RIDGE.predict(X_train[train])\n",
    "    train_error+=E(y_train[train],train_pred)\n",
    "    train_score+=RIDGE.score(X_train[train],y_train[train])\n",
    "    \n",
    "    validation_pred=RIDGE.predict(X_train[valid])\n",
    "    validation_error+=E(y_train[valid],validation_pred)\n",
    "    validation_score+=RIDGE.score(X_train[valid],y_train[valid])\n",
    "    \n",
    "print(\"train error in CV: \",train_error/split_size)\n",
    "print(\"train score in CV: \",train_score/split_size)\n",
    "print()\n",
    "print(\"validation error in CV: \", validation_error/split_size)\n",
    "print(\"validation score in CV: \",validation_score/split_size)\n",
    "print(\"End of CV\")\n",
    "print()\n",
    "\n",
    "train_pred=RIDGE.predict(X_train)\n",
    "train_error=E(y_train,train_pred)\n",
    "train_score=RIDGE.score(X_train,y_train)\n",
    "    \n",
    "test_pred=RIDGE.predict(X_test)\n",
    "test_error=E(y_test,test_pred)\n",
    "test_score=RIDGE.score(X_test,y_test)\n",
    "\n",
    "print(\"train error: \",train_error)\n",
    "print(\"train score: \",train_score)\n",
    "print()\n",
    "print(\"test error: \",test_error)\n",
    "print(\"test_score: \",test_score)"
   ]
  },
  {
   "cell_type": "code",
   "execution_count": 40,
   "metadata": {},
   "outputs": [
    {
     "name": "stdout",
     "output_type": "stream",
     "text": [
      "Cross Validation for alpha\n",
      "train error in CV:  4073.852640304163\n",
      "train score in CV:  0.7129624578279937\n",
      "\n",
      "validation error in CV:  3211.5885971853754\n",
      "validation score in CV:  2.1055108547740478\n",
      "End of CV\n",
      "\n",
      "train error:  5221.835691128675\n",
      "train score:  0.7073210195880865\n",
      "\n",
      "test error:  1048.4730633837685\n",
      "test_score:  0.6880053202542402\n"
     ]
    }
   ],
   "source": [
    "# Neural Network Regression\n",
    "MLPR=MLPRegressor(hidden_layer_sizes=(15,),solver='adam',max_iter=10000,alpha=0.1)\n",
    "\n",
    "train_error=0\n",
    "test_error=0\n",
    "\n",
    "train_score=0\n",
    "test_score=0\n",
    "\n",
    "print(\"Cross Validation for alpha\")\n",
    "for i in range(split_size):\n",
    "    train=TRAIN_INDICES[i]\n",
    "    valid=VALIDATION_INDICES[i]\n",
    "    MLPR.fit(X_train[train],y_train[train])\n",
    "    \n",
    "    train_pred=MLPR.predict(X_train[train])\n",
    "    train_error+=E(y_train[train],train_pred)\n",
    "    train_score+=MLPR.score(X_train[train],y_train[train])\n",
    "    \n",
    "    validation_pred=MLPR.predict(X_train[valid])\n",
    "    validation_error+=E(y_train[valid],validation_pred)\n",
    "    validation_score+=MLPR.score(X_train[valid],y_train[valid])\n",
    "    \n",
    "print(\"train error in CV: \",train_error/split_size)\n",
    "print(\"train score in CV: \",train_score/split_size)\n",
    "print()\n",
    "print(\"validation error in CV: \", validation_error/split_size)\n",
    "print(\"validation score in CV: \",validation_score/split_size)\n",
    "print(\"End of CV\")\n",
    "print()\n",
    "\n",
    "train_pred=MLPR.predict(X_train)\n",
    "train_error=E(y_train,train_pred)\n",
    "train_score=MLPR.score(X_train,y_train)\n",
    "    \n",
    "test_pred=MLPR.predict(X_test)\n",
    "test_error=E(y_test,test_pred)\n",
    "test_score=MLPR.score(X_test,y_test)\n",
    "\n",
    "print(\"train error: \",train_error)\n",
    "print(\"train score: \",train_score)\n",
    "print()\n",
    "print(\"test error: \",test_error)\n",
    "print(\"test_score: \",test_score)\n"
   ]
  },
  {
   "cell_type": "code",
   "execution_count": null,
   "metadata": {},
   "outputs": [],
   "source": []
  }
 ],
 "metadata": {
  "kernelspec": {
   "display_name": "Python 3",
   "language": "python",
   "name": "python3"
  },
  "language_info": {
   "codemirror_mode": {
    "name": "ipython",
    "version": 3
   },
   "file_extension": ".py",
   "mimetype": "text/x-python",
   "name": "python",
   "nbconvert_exporter": "python",
   "pygments_lexer": "ipython3",
   "version": "3.6.8"
  }
 },
 "nbformat": 4,
 "nbformat_minor": 2
}
